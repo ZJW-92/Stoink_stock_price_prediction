{
 "cells": [
  {
   "cell_type": "code",
   "execution_count": 1,
   "id": "25b933b1",
   "metadata": {},
   "outputs": [],
   "source": [
    "# used for manipulating directory paths\n",
    "import os\n",
    "# For N-dimensional array manipulation\n",
    "import numpy as np\n",
    "# For advanced mathematical routines\n",
    "import scipy\n",
    "# Plotting library\n",
    "import matplotlib.pyplot as plt\n",
    "# For data analysis and data structures in DataFrames \n",
    "import pandas as pd\n",
    "# For data visualization\n",
    "import seaborn as sn\n",
    "# For machine learning algorithms and evaluation metrics\n",
    "import sklearn\n",
    "from sklearn.model_selection import train_test_split\n",
    "from sklearn import metrics\n",
    "# tells matplotlib to embed plots within the notebook\n",
    "%matplotlib inline\n",
    "from sklearn.preprocessing import StandardScaler\n",
    "import tensorflow as tf"
   ]
  },
  {
   "cell_type": "code",
   "execution_count": 2,
   "id": "5d74adcb",
   "metadata": {},
   "outputs": [],
   "source": [
    "# Loading the data from CSV into panadas dataframe\n",
    "df = pd.read_csv ('../data/topFiveFeats211207.csv', sep=',')"
   ]
  },
  {
   "cell_type": "code",
   "execution_count": 3,
   "id": "07a3ba99",
   "metadata": {
    "scrolled": true
   },
   "outputs": [
    {
     "data": {
      "text/html": [
       "<div>\n",
       "<style scoped>\n",
       "    .dataframe tbody tr th:only-of-type {\n",
       "        vertical-align: middle;\n",
       "    }\n",
       "\n",
       "    .dataframe tbody tr th {\n",
       "        vertical-align: top;\n",
       "    }\n",
       "\n",
       "    .dataframe thead th {\n",
       "        text-align: right;\n",
       "    }\n",
       "</style>\n",
       "<table border=\"1\" class=\"dataframe\">\n",
       "  <thead>\n",
       "    <tr style=\"text-align: right;\">\n",
       "      <th></th>\n",
       "      <th>3m</th>\n",
       "      <th>1m</th>\n",
       "      <th>reportedEPS</th>\n",
       "      <th>totalNonCurrentAssets</th>\n",
       "      <th>depreciationAndAmortization</th>\n",
       "      <th>currentAccountsPayable</th>\n",
       "      <th>profitLoss</th>\n",
       "    </tr>\n",
       "  </thead>\n",
       "  <tbody>\n",
       "    <tr>\n",
       "      <th>0</th>\n",
       "      <td>0.033148</td>\n",
       "      <td>0.064982</td>\n",
       "      <td>-0.071429</td>\n",
       "      <td>-0.001280</td>\n",
       "      <td>0.012513</td>\n",
       "      <td>0.007028</td>\n",
       "      <td>-0.079814</td>\n",
       "    </tr>\n",
       "    <tr>\n",
       "      <th>1</th>\n",
       "      <td>0.121244</td>\n",
       "      <td>0.076218</td>\n",
       "      <td>-0.166667</td>\n",
       "      <td>0.078745</td>\n",
       "      <td>0.049137</td>\n",
       "      <td>-0.371503</td>\n",
       "      <td>-0.178230</td>\n",
       "    </tr>\n",
       "    <tr>\n",
       "      <th>2</th>\n",
       "      <td>-0.079433</td>\n",
       "      <td>-0.005502</td>\n",
       "      <td>1.301370</td>\n",
       "      <td>0.109743</td>\n",
       "      <td>-0.013323</td>\n",
       "      <td>0.509504</td>\n",
       "      <td>0.164689</td>\n",
       "    </tr>\n",
       "    <tr>\n",
       "      <th>3</th>\n",
       "      <td>0.145756</td>\n",
       "      <td>-0.060012</td>\n",
       "      <td>0.123077</td>\n",
       "      <td>0.016336</td>\n",
       "      <td>-0.018169</td>\n",
       "      <td>0.197339</td>\n",
       "      <td>1.193993</td>\n",
       "    </tr>\n",
       "    <tr>\n",
       "      <th>4</th>\n",
       "      <td>-0.682538</td>\n",
       "      <td>0.165132</td>\n",
       "      <td>0.015625</td>\n",
       "      <td>0.003578</td>\n",
       "      <td>-0.012204</td>\n",
       "      <td>0.089572</td>\n",
       "      <td>0.000356</td>\n",
       "    </tr>\n",
       "  </tbody>\n",
       "</table>\n",
       "</div>"
      ],
      "text/plain": [
       "         3m        1m  reportedEPS  totalNonCurrentAssets  \\\n",
       "0  0.033148  0.064982    -0.071429              -0.001280   \n",
       "1  0.121244  0.076218    -0.166667               0.078745   \n",
       "2 -0.079433 -0.005502     1.301370               0.109743   \n",
       "3  0.145756 -0.060012     0.123077               0.016336   \n",
       "4 -0.682538  0.165132     0.015625               0.003578   \n",
       "\n",
       "   depreciationAndAmortization  currentAccountsPayable  profitLoss  \n",
       "0                     0.012513                0.007028   -0.079814  \n",
       "1                     0.049137               -0.371503   -0.178230  \n",
       "2                    -0.013323                0.509504    0.164689  \n",
       "3                    -0.018169                0.197339    1.193993  \n",
       "4                    -0.012204                0.089572    0.000356  "
      ]
     },
     "execution_count": 3,
     "metadata": {},
     "output_type": "execute_result"
    }
   ],
   "source": [
    "# print top 5 lines \n",
    "df.head()"
   ]
  },
  {
   "cell_type": "code",
   "execution_count": 4,
   "id": "5e378873",
   "metadata": {
    "scrolled": true
   },
   "outputs": [
    {
     "name": "stdout",
     "output_type": "stream",
     "text": [
      "Total number of data in the dataset: 3564\n"
     ]
    }
   ],
   "source": [
    "# print length of '1m' \n",
    "data_to_use = df['1m'].values\n",
    "print('Total number of data in the dataset: {}'.format(len(data_to_use)))"
   ]
  },
  {
   "cell_type": "markdown",
   "id": "078af550",
   "metadata": {},
   "source": [
    "# Data processing\n",
    "## Scaling data"
   ]
  },
  {
   "cell_type": "code",
   "execution_count": 5,
   "id": "9c4a8e06",
   "metadata": {},
   "outputs": [],
   "source": [
    "scaler = StandardScaler()"
   ]
  },
  {
   "cell_type": "code",
   "execution_count": 6,
   "id": "0a4e568c",
   "metadata": {},
   "outputs": [],
   "source": [
    "scaled_dataset = scaler.fit_transform(data_to_use.reshape(-1, 1))"
   ]
  },
  {
   "cell_type": "code",
   "execution_count": 7,
   "id": "35183bb1",
   "metadata": {
    "scrolled": true
   },
   "outputs": [
    {
     "data": {
      "image/png": "[encoded data removed]",
      "text/plain": [
       "<Figure size 1080x720 with 1 Axes>"
      ]
     },
     "metadata": {},
     "output_type": "display_data"
    }
   ],
   "source": [
    "plt.figure(figsize=(15,10), frameon=False, facecolor='brown', edgecolor='blue')\n",
    "plt.title('Scaled increase or decrease of stocks')\n",
    "plt.xlabel('1 Month')\n",
    "plt.ylabel('Scaled increase or decrease of stocks')\n",
    "plt.plot(scaled_dataset, label='Stocks increase or decrease')\n",
    "plt.legend()\n",
    "plt.show()"
   ]
  },
  {
   "cell_type": "code",
   "execution_count": 8,
   "id": "a899420f",
   "metadata": {
    "scrolled": true
   },
   "outputs": [
    {
     "name": "stdout",
     "output_type": "stream",
     "text": [
      "0\n",
      "0\n"
     ]
    }
   ],
   "source": [
    " # for soem reason there are Infs in the dataset\n",
    "df.replace([np.inf, -np.inf], np.nan, inplace=True)\n",
    "df.replace(np.nan, df.mean(), inplace=True)\n",
    "\n",
    "# Checking for NaNs and infs\n",
    "print(df.isnull().sum().sum())\n",
    "print(np.isinf(df).values.sum())\n"
   ]
  },
  {
   "cell_type": "markdown",
   "id": "4f5afb61",
   "metadata": {},
   "source": [
    "# Split dataset"
   ]
  },
  {
   "cell_type": "code",
   "execution_count": 9,
   "id": "26e32e4c",
   "metadata": {},
   "outputs": [
    {
     "name": "stdout",
     "output_type": "stream",
     "text": [
      "shape of X  (3564, 5)\n",
      "shape of y (3564,)\n",
      "(2494, 5) (2494,) (1070, 5) (1070,)\n"
     ]
    },
    {
     "name": "stderr",
     "output_type": "stream",
     "text": [
      "/var/folders/ns/h76j0lmj3f36gyjjdrtlhg1r0000gn/T/ipykernel_58984/1980290653.py:7: RuntimeWarning: invalid value encountered in true_divide\n",
      "  X = features / row_sums[:, np.newaxis]\n"
     ]
    }
   ],
   "source": [
    "from sklearn.model_selection import train_test_split\n",
    "\n",
    "column_features = [\"reportedEPS\",\"totalNonCurrentAssets\",\"depreciationAndAmortization\",\"currentAccountsPayable\", \"profitLoss\"]\n",
    "\n",
    "features = df[column_features].to_numpy()\n",
    "row_sums = features.sum(axis=1)\n",
    "X = features / row_sums[:, np.newaxis]\n",
    "\n",
    "print('shape of X ',X.shape)\n",
    "y = df[\"1m\"].to_numpy()\n",
    "print('shape of y',y.shape)\n",
    "\n",
    "X_train, X_test, y_train, y_test = train_test_split(X,y,random_state=0,test_size=0.3)\n",
    "print(X_train.shape, y_train.shape, X_test.shape, y_test.shape)"
   ]
  },
  {
   "cell_type": "code",
   "execution_count": 10,
   "id": "2d506eba",
   "metadata": {},
   "outputs": [
    {
     "name": "stdout",
     "output_type": "stream",
     "text": [
      "0\n",
      "0\n"
     ]
    }
   ],
   "source": [
    "# print null values and infinity\n",
    "print(df.isnull().sum().sum())\n",
    "print(np.isinf(df).values.sum())"
   ]
  },
  {
   "cell_type": "code",
   "execution_count": 11,
   "id": "ffd04de2",
   "metadata": {},
   "outputs": [
    {
     "name": "stdout",
     "output_type": "stream",
     "text": [
      "Series([], dtype: int64)\n"
     ]
    }
   ],
   "source": [
    "def checkMissing(df):\n",
    "    missing_count = df.isna().sum().sort_values(ascending= False)\n",
    "    missing_count = missing_count[missing_count != 0]\n",
    "    return missing_count\n",
    "    \n",
    "print(checkMissing(df))"
   ]
  },
  {
   "cell_type": "code",
   "execution_count": 12,
   "id": "a4da071f",
   "metadata": {},
   "outputs": [],
   "source": [
    "import keras\n",
    "from keras.models import Sequential\n",
    "from keras.layers import Dense,Dropout\n",
    "from tensorflow.keras.optimizers import Adam\n",
    "from keras.callbacks import TensorBoard"
   ]
  },
  {
   "cell_type": "code",
   "execution_count": null,
   "id": "e702aaa9",
   "metadata": {},
   "outputs": [],
   "source": []
  },
  {
   "cell_type": "code",
   "execution_count": 13,
   "id": "8c216e5e",
   "metadata": {},
   "outputs": [
    {
     "name": "stderr",
     "output_type": "stream",
     "text": [
      "2021-12-10 07:44:48.534740: I tensorflow/core/platform/cpu_feature_guard.cc:151] This TensorFlow binary is optimized with oneAPI Deep Neural Network Library (oneDNN) to use the following CPU instructions in performance-critical operations:  AVX2 FMA\n",
      "To enable them in other operations, rebuild TensorFlow with the appropriate compiler flags.\n"
     ]
    }
   ],
   "source": [
    "# Making the toy model with tensorflow\n",
    "model = tf.keras.models.Sequential()\n",
    "\n",
    "model.add(Dropout(0.2))\n",
    "# Layers\n",
    "model.add(tf.keras.layers.Dense(units = 64, activation = 'relu'))\n",
    "model.add(tf.keras.layers.Dense(units = 32, activation = 'relu'))\n",
    "model.add(tf.keras.layers.Dense(units = 10, activation = 'sigmoid'))"
   ]
  },
  {
   "cell_type": "code",
   "execution_count": 14,
   "id": "49ea1c0a",
   "metadata": {},
   "outputs": [],
   "source": [
    "\n",
    "# there is error when changing loss='sparse_categorical_crossentropy' ,  Received a label value of -9223372036854775808 which is outside the valid range of [0, 10).\n",
    "model.compile(optimizer=Adam(learning_rate=0.001), loss='mean_squared_error', metrics=['accuracy'])"
   ]
  },
  {
   "cell_type": "code",
   "execution_count": 15,
   "id": "7b9eca19",
   "metadata": {},
   "outputs": [
    {
     "name": "stdout",
     "output_type": "stream",
     "text": [
      "Epoch 1/50\n",
      "20/20 [==============================] - 0s 959us/step - loss: nan - accuracy: 8.0192e-04\n",
      "Epoch 2/50\n",
      "20/20 [==============================] - 0s 874us/step - loss: nan - accuracy: 8.0192e-04\n",
      "Epoch 3/50\n",
      "20/20 [==============================] - 0s 943us/step - loss: nan - accuracy: 8.0192e-04\n",
      "Epoch 4/50\n",
      "20/20 [==============================] - 0s 893us/step - loss: nan - accuracy: 8.0192e-04\n",
      "Epoch 5/50\n",
      "20/20 [==============================] - 0s 915us/step - loss: nan - accuracy: 8.0192e-04\n",
      "Epoch 6/50\n",
      "20/20 [==============================] - 0s 1ms/step - loss: nan - accuracy: 8.0192e-04\n",
      "Epoch 7/50\n",
      "20/20 [==============================] - 0s 1ms/step - loss: nan - accuracy: 8.0192e-04\n",
      "Epoch 8/50\n",
      "20/20 [==============================] - 0s 848us/step - loss: nan - accuracy: 8.0192e-04\n",
      "Epoch 9/50\n",
      "20/20 [==============================] - 0s 1ms/step - loss: nan - accuracy: 8.0192e-04\n",
      "Epoch 10/50\n",
      "20/20 [==============================] - 0s 1ms/step - loss: nan - accuracy: 8.0192e-04\n",
      "Epoch 11/50\n",
      "20/20 [==============================] - 0s 1ms/step - loss: nan - accuracy: 8.0192e-04\n",
      "Epoch 12/50\n",
      "20/20 [==============================] - 0s 932us/step - loss: nan - accuracy: 8.0192e-04\n",
      "Epoch 13/50\n",
      "20/20 [==============================] - 0s 949us/step - loss: nan - accuracy: 8.0192e-04\n",
      "Epoch 14/50\n",
      "20/20 [==============================] - 0s 894us/step - loss: nan - accuracy: 8.0192e-04\n",
      "Epoch 15/50\n",
      "20/20 [==============================] - 0s 914us/step - loss: nan - accuracy: 8.0192e-04\n",
      "Epoch 16/50\n",
      "20/20 [==============================] - 0s 954us/step - loss: nan - accuracy: 8.0192e-04\n",
      "Epoch 17/50\n",
      "20/20 [==============================] - 0s 1ms/step - loss: nan - accuracy: 8.0192e-04\n",
      "Epoch 18/50\n",
      "20/20 [==============================] - 0s 1ms/step - loss: nan - accuracy: 8.0192e-04\n",
      "Epoch 19/50\n",
      "20/20 [==============================] - 0s 1ms/step - loss: nan - accuracy: 8.0192e-04\n",
      "Epoch 20/50\n",
      "20/20 [==============================] - 0s 996us/step - loss: nan - accuracy: 8.0192e-04\n",
      "Epoch 21/50\n",
      "20/20 [==============================] - 0s 1ms/step - loss: nan - accuracy: 8.0192e-04\n",
      "Epoch 22/50\n",
      "20/20 [==============================] - 0s 1ms/step - loss: nan - accuracy: 8.0192e-04\n",
      "Epoch 23/50\n",
      "20/20 [==============================] - 0s 1ms/step - loss: nan - accuracy: 8.0192e-04\n",
      "Epoch 24/50\n",
      "20/20 [==============================] - 0s 1ms/step - loss: nan - accuracy: 8.0192e-04\n",
      "Epoch 25/50\n",
      "20/20 [==============================] - 0s 1ms/step - loss: nan - accuracy: 8.0192e-04\n",
      "Epoch 26/50\n",
      "20/20 [==============================] - 0s 908us/step - loss: nan - accuracy: 8.0192e-04\n",
      "Epoch 27/50\n",
      "20/20 [==============================] - 0s 939us/step - loss: nan - accuracy: 8.0192e-04\n",
      "Epoch 28/50\n",
      "20/20 [==============================] - 0s 1ms/step - loss: nan - accuracy: 8.0192e-04\n",
      "Epoch 29/50\n",
      "20/20 [==============================] - 0s 1ms/step - loss: nan - accuracy: 8.0192e-04\n",
      "Epoch 30/50\n",
      "20/20 [==============================] - 0s 960us/step - loss: nan - accuracy: 8.0192e-04\n",
      "Epoch 31/50\n",
      "20/20 [==============================] - 0s 960us/step - loss: nan - accuracy: 8.0192e-04\n",
      "Epoch 32/50\n",
      "20/20 [==============================] - 0s 891us/step - loss: nan - accuracy: 8.0192e-04\n",
      "Epoch 33/50\n",
      "20/20 [==============================] - 0s 873us/step - loss: nan - accuracy: 8.0192e-04\n",
      "Epoch 34/50\n",
      "20/20 [==============================] - 0s 982us/step - loss: nan - accuracy: 8.0192e-04\n",
      "Epoch 35/50\n",
      "20/20 [==============================] - 0s 979us/step - loss: nan - accuracy: 8.0192e-04\n",
      "Epoch 36/50\n",
      "20/20 [==============================] - 0s 862us/step - loss: nan - accuracy: 8.0192e-04\n",
      "Epoch 37/50\n",
      "20/20 [==============================] - 0s 989us/step - loss: nan - accuracy: 8.0192e-04\n",
      "Epoch 38/50\n",
      "20/20 [==============================] - 0s 915us/step - loss: nan - accuracy: 8.0192e-04\n",
      "Epoch 39/50\n",
      "20/20 [==============================] - 0s 886us/step - loss: nan - accuracy: 8.0192e-04\n",
      "Epoch 40/50\n",
      "20/20 [==============================] - 0s 969us/step - loss: nan - accuracy: 8.0192e-04\n",
      "Epoch 41/50\n",
      "20/20 [==============================] - 0s 1ms/step - loss: nan - accuracy: 8.0192e-04\n",
      "Epoch 42/50\n",
      "20/20 [==============================] - 0s 1ms/step - loss: nan - accuracy: 8.0192e-04\n",
      "Epoch 43/50\n",
      "20/20 [==============================] - 0s 863us/step - loss: nan - accuracy: 8.0192e-04\n",
      "Epoch 44/50\n",
      "20/20 [==============================] - 0s 845us/step - loss: nan - accuracy: 8.0192e-04\n",
      "Epoch 45/50\n",
      "20/20 [==============================] - 0s 826us/step - loss: nan - accuracy: 8.0192e-04\n",
      "Epoch 46/50\n",
      "20/20 [==============================] - 0s 848us/step - loss: nan - accuracy: 8.0192e-04\n",
      "Epoch 47/50\n",
      "20/20 [==============================] - 0s 898us/step - loss: nan - accuracy: 8.0192e-04\n",
      "Epoch 48/50\n",
      "20/20 [==============================] - 0s 875us/step - loss: nan - accuracy: 8.0192e-04\n",
      "Epoch 49/50\n",
      "20/20 [==============================] - 0s 909us/step - loss: nan - accuracy: 8.0192e-04\n",
      "Epoch 50/50\n",
      "20/20 [==============================] - 0s 914us/step - loss: nan - accuracy: 8.0192e-04\n"
     ]
    },
    {
     "data": {
      "text/plain": [
       "<keras.callbacks.History at 0x7fe64799f070>"
      ]
     },
     "execution_count": 15,
     "metadata": {},
     "output_type": "execute_result"
    }
   ],
   "source": [
    "model.fit(X_train, y_train, epochs = 50, batch_size = 128)"
   ]
  },
  {
   "cell_type": "code",
   "execution_count": 16,
   "id": "e0b1e9d0",
   "metadata": {
    "scrolled": true
   },
   "outputs": [
    {
     "name": "stdout",
     "output_type": "stream",
     "text": [
      "78/78 [==============================] - 0s 563us/step - loss: nan - accuracy: 8.0192e-04\n",
      "Train Accuracy : 0.0008019246160984039\n"
     ]
    }
   ],
   "source": [
    "  # Model evaluation\n",
    "accuracy = model.evaluate(X_train, y_train)\n",
    "print('Train Accuracy : {}'.format(accuracy[1]))"
   ]
  },
  {
   "cell_type": "code",
   "execution_count": 17,
   "id": "6b72ae47",
   "metadata": {},
   "outputs": [
    {
     "name": "stdout",
     "output_type": "stream",
     "text": [
      "34/34 [==============================] - 0s 615us/step - loss: nan - accuracy: 9.3458e-04\n",
      "Test Accuracy : 0.0009345794678665698\n"
     ]
    }
   ],
   "source": [
    "  # Model evaluation\n",
    "accuracy = model.evaluate(X_test, y_test)\n",
    "print('Test Accuracy : {}'.format(accuracy[1]))\n"
   ]
  },
  {
   "cell_type": "code",
   "execution_count": null,
   "id": "cbde3fcb",
   "metadata": {},
   "outputs": [],
   "source": []
  },
  {
   "cell_type": "code",
   "execution_count": null,
   "id": "b13763af",
   "metadata": {},
   "outputs": [],
   "source": []
  },
  {
   "cell_type": "code",
   "execution_count": null,
   "id": "db90c6a1",
   "metadata": {},
   "outputs": [],
   "source": []
  }
 ],
 "metadata": {
  "kernelspec": {
   "display_name": "Python 3 (ipykernel)",
   "language": "python",
   "name": "python3"
  },
  "language_info": {
   "codemirror_mode": {
    "name": "ipython",
    "version": 3
   },
   "file_extension": ".py",
   "mimetype": "text/x-python",
   "name": "python",
   "nbconvert_exporter": "python",
   "pygments_lexer": "ipython3",
   "version": "3.9.7"
  }
 },
 "nbformat": 4,
 "nbformat_minor": 5
}
