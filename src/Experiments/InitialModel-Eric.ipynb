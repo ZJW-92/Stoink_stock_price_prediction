{
 "cells": [
  {
   "cell_type": "code",
   "execution_count": 1,
   "id": "25b933b1",
   "metadata": {},
   "outputs": [],
   "source": [
    "# Imports\n",
    "import pandas as pd\n",
    "from sklearn.model_selection import train_test_split\n",
    "from sklearn.preprocessing import StandardScaler\n",
    "from keras.constraints import maxnorm\n",
    "from sklearn import preprocessing\n",
    "import numpy as np\n",
    "import json as json\n",
    "import seaborn as sns\n",
    "import numpy as np\n",
    "import matplotlib.pyplot as plt\n",
    "import tensorflow as tf\n",
    "from tensorflow.keras.models import Sequential"
   ]
  },
  {
   "cell_type": "code",
   "execution_count": 2,
   "id": "5d74adcb",
   "metadata": {},
   "outputs": [
    {
     "name": "stdout",
     "output_type": "stream",
     "text": [
      "0\n",
      "0\n",
      "Index(['1m', 'reportedEPS', 'totalNonCurrentAssets', 'totalCurrentAssets',\n",
      "       'otherNonCurrentLiabilities', 'cashflowFromFinancing'],\n",
      "      dtype='object')\n"
     ]
    }
   ],
   "source": [
    "# Loading the data from CSV into panadas dataframe\n",
    "df = pd.read_csv (r'..\\data\\topFiveFeats211207.csv', sep=',')\n",
    "\n",
    "# Checking for NaNs\n",
    "print(df.isnull().sum().sum())\n",
    "print(np.isinf(df).values.sum())\n",
    "print(df.columns)"
   ]
  },
  {
   "cell_type": "code",
   "execution_count": 3,
   "id": "8c216e5e",
   "metadata": {},
   "outputs": [],
   "source": [
    "# Making the toy model with tensorflow\n",
    "model = tf.keras.models.Sequential()\n",
    "\n",
    "# Layers\n",
    "model.add(tf.keras.layers.Dense(units = 10, input_dim=5))\n",
    "model.add(tf.keras.layers.Dropout(0.2))\n",
    "model.add(tf.keras.layers.Dense(100, activation='relu'))\n",
    "model.add(tf.keras.layers.Dense(51, activation='relu'))\n",
    "model.add(tf.keras.layers.Dense(units = 1, activation = 'linear'))"
   ]
  },
  {
   "cell_type": "code",
   "execution_count": 4,
   "id": "0a7c8496",
   "metadata": {},
   "outputs": [],
   "source": [
    "# compiling the model\n",
    "opt = tf.keras.optimizers.Adam(lr=0.005)\n",
    "model.compile(loss = 'mean_squared_error', optimizer = opt, metrics=['accuracy'])"
   ]
  },
  {
   "cell_type": "code",
   "execution_count": null,
   "id": "9efc30e0",
   "metadata": {},
   "outputs": [],
   "source": []
  },
  {
   "cell_type": "code",
   "execution_count": 5,
   "id": "49e72b0b",
   "metadata": {},
   "outputs": [],
   "source": [
    "# Declaring the label and features np.array\n",
    "column_features = [\"reportedEPS\",\"totalNonCurrentAssets\",\"totalCurrentAssets\",\"otherNonCurrentLiabilities\", \"cashflowFromFinancing\"]\n",
    "y = df[\"1m\"].to_numpy()\n",
    "X = df[column_features].to_numpy()\n",
    "\n",
    "# Normalizing\n",
    "X = preprocessing.normalize(X)"
   ]
  },
  {
   "cell_type": "code",
   "execution_count": null,
   "id": "330b6aa4",
   "metadata": {},
   "outputs": [],
   "source": [
    "\n"
   ]
  },
  {
   "cell_type": "code",
   "execution_count": 6,
   "id": "60f7dc31",
   "metadata": {},
   "outputs": [
    {
     "name": "stdout",
     "output_type": "stream",
     "text": [
      "(2400, 5) (1426, 5) (2400,) (1426,)\n"
     ]
    }
   ],
   "source": [
    "# Splitting the dataset\n",
    "X_train, X_test, y_train, y_test = train_test_split(X, y, test_size=0.3727)\n",
    "\n",
    "# print\n",
    "print(X_train.shape, X_test.shape, y_train.shape, y_test.shape)\n"
   ]
  },
  {
   "cell_type": "code",
   "execution_count": 7,
   "id": "eed8a18f",
   "metadata": {},
   "outputs": [
    {
     "name": "stdout",
     "output_type": "stream",
     "text": [
      "Epoch 1/100\n",
      "150/150 [==============================] - 0s 963us/step - loss: 0.0121 - accuracy: 4.1667e-04\n",
      "Epoch 2/100\n",
      "150/150 [==============================] - 0s 927us/step - loss: 0.0106 - accuracy: 4.1667e-04\n",
      "Epoch 3/100\n",
      "150/150 [==============================] - 0s 940us/step - loss: 0.0106 - accuracy: 4.1667e-04\n",
      "Epoch 4/100\n",
      "150/150 [==============================] - 0s 907us/step - loss: 0.0106 - accuracy: 4.1667e-04\n",
      "Epoch 5/100\n",
      "150/150 [==============================] - 0s 954us/step - loss: 0.0106 - accuracy: 4.1667e-04\n",
      "Epoch 6/100\n",
      "150/150 [==============================] - 0s 947us/step - loss: 0.0106 - accuracy: 4.1667e-04\n",
      "Epoch 7/100\n",
      "150/150 [==============================] - 0s 913us/step - loss: 0.0106 - accuracy: 4.1667e-04\n",
      "Epoch 8/100\n",
      "150/150 [==============================] - 0s 920us/step - loss: 0.0105 - accuracy: 4.1667e-04\n",
      "Epoch 9/100\n",
      "150/150 [==============================] - 0s 927us/step - loss: 0.0106 - accuracy: 4.1667e-04\n",
      "Epoch 10/100\n",
      "150/150 [==============================] - 0s 933us/step - loss: 0.0106 - accuracy: 4.1667e-04\n",
      "Epoch 11/100\n",
      "150/150 [==============================] - 0s 927us/step - loss: 0.0105 - accuracy: 4.1667e-04\n",
      "Epoch 12/100\n",
      "150/150 [==============================] - 0s 933us/step - loss: 0.0106 - accuracy: 4.1667e-04\n",
      "Epoch 13/100\n",
      "150/150 [==============================] - 0s 900us/step - loss: 0.0106 - accuracy: 4.1667e-04\n",
      "Epoch 14/100\n",
      "150/150 [==============================] - 0s 933us/step - loss: 0.0105 - accuracy: 4.1667e-04\n",
      "Epoch 15/100\n",
      "150/150 [==============================] - 0s 909us/step - loss: 0.0105 - accuracy: 4.1667e-04\n",
      "Epoch 16/100\n",
      "150/150 [==============================] - 0s 920us/step - loss: 0.0105 - accuracy: 4.1667e-04\n",
      "Epoch 17/100\n",
      "150/150 [==============================] - 0s 900us/step - loss: 0.0107 - accuracy: 4.1667e-04\n",
      "Epoch 18/100\n",
      "150/150 [==============================] - 0s 927us/step - loss: 0.0105 - accuracy: 4.1667e-04\n",
      "Epoch 19/100\n",
      "150/150 [==============================] - 0s 980us/step - loss: 0.0106 - accuracy: 4.1667e-04\n",
      "Epoch 20/100\n",
      "150/150 [==============================] - 0s 927us/step - loss: 0.0104 - accuracy: 4.1667e-04\n",
      "Epoch 21/100\n",
      "150/150 [==============================] - 0s 920us/step - loss: 0.0106 - accuracy: 4.1667e-04\n",
      "Epoch 22/100\n",
      "150/150 [==============================] - 0s 920us/step - loss: 0.0106 - accuracy: 4.1667e-04\n",
      "Epoch 23/100\n",
      "150/150 [==============================] - 0s 921us/step - loss: 0.0104 - accuracy: 4.1667e-04\n",
      "Epoch 24/100\n",
      "150/150 [==============================] - 0s 927us/step - loss: 0.0105 - accuracy: 4.1667e-04\n",
      "Epoch 25/100\n",
      "150/150 [==============================] - 0s 957us/step - loss: 0.0106 - accuracy: 4.1667e-04\n",
      "Epoch 26/100\n",
      "150/150 [==============================] - 0s 933us/step - loss: 0.0106 - accuracy: 4.1667e-04\n",
      "Epoch 27/100\n",
      "150/150 [==============================] - 0s 920us/step - loss: 0.0106 - accuracy: 4.1667e-04\n",
      "Epoch 28/100\n",
      "150/150 [==============================] - 0s 973us/step - loss: 0.0106 - accuracy: 4.1667e-04\n",
      "Epoch 29/100\n",
      "150/150 [==============================] - 0s 913us/step - loss: 0.0106 - accuracy: 4.1667e-04\n",
      "Epoch 30/100\n",
      "150/150 [==============================] - 0s 927us/step - loss: 0.0106 - accuracy: 4.1667e-04\n",
      "Epoch 31/100\n",
      "150/150 [==============================] - 0s 953us/step - loss: 0.0105 - accuracy: 4.1667e-04\n",
      "Epoch 32/100\n",
      "150/150 [==============================] - 0s 920us/step - loss: 0.0106 - accuracy: 4.1667e-04\n",
      "Epoch 33/100\n",
      "150/150 [==============================] - 0s 927us/step - loss: 0.0104 - accuracy: 4.1667e-04\n",
      "Epoch 34/100\n",
      "150/150 [==============================] - 0s 927us/step - loss: 0.0105 - accuracy: 4.1667e-04\n",
      "Epoch 35/100\n",
      "150/150 [==============================] - 0s 947us/step - loss: 0.0103 - accuracy: 4.1667e-04\n",
      "Epoch 36/100\n",
      "150/150 [==============================] - 0s 933us/step - loss: 0.0106 - accuracy: 4.1667e-04\n",
      "Epoch 37/100\n",
      "150/150 [==============================] - 0s 913us/step - loss: 0.0108 - accuracy: 4.1667e-04\n",
      "Epoch 38/100\n",
      "150/150 [==============================] - 0s 940us/step - loss: 0.0106 - accuracy: 4.1667e-04\n",
      "Epoch 39/100\n",
      "150/150 [==============================] - 0s 927us/step - loss: 0.0105 - accuracy: 4.1667e-04\n",
      "Epoch 40/100\n",
      "150/150 [==============================] - 0s 927us/step - loss: 0.0106 - accuracy: 4.1667e-04\n",
      "Epoch 41/100\n",
      "150/150 [==============================] - 0s 929us/step - loss: 0.0105 - accuracy: 4.1667e-04\n",
      "Epoch 42/100\n",
      "150/150 [==============================] - 0s 933us/step - loss: 0.0106 - accuracy: 4.1667e-04\n",
      "Epoch 43/100\n",
      "150/150 [==============================] - 0s 953us/step - loss: 0.0105 - accuracy: 4.1667e-04\n",
      "Epoch 44/100\n",
      "150/150 [==============================] - 0s 943us/step - loss: 0.0106 - accuracy: 4.1667e-04\n",
      "Epoch 45/100\n",
      "150/150 [==============================] - 0s 927us/step - loss: 0.0106 - accuracy: 4.1667e-04\n",
      "Epoch 46/100\n",
      "150/150 [==============================] - 0s 1ms/step - loss: 0.0105 - accuracy: 4.1667e-04\n",
      "Epoch 47/100\n",
      "150/150 [==============================] - 0s 1ms/step - loss: 0.0106 - accuracy: 4.1667e-04\n",
      "Epoch 48/100\n",
      "150/150 [==============================] - 0s 933us/step - loss: 0.0106 - accuracy: 4.1667e-04\n",
      "Epoch 49/100\n",
      "150/150 [==============================] - 0s 947us/step - loss: 0.0105 - accuracy: 4.1667e-04\n",
      "Epoch 50/100\n",
      "150/150 [==============================] - 0s 934us/step - loss: 0.0106 - accuracy: 4.1667e-04\n",
      "Epoch 51/100\n",
      "150/150 [==============================] - 0s 940us/step - loss: 0.0106 - accuracy: 4.1667e-04\n",
      "Epoch 52/100\n",
      "150/150 [==============================] - 0s 940us/step - loss: 0.0106 - accuracy: 4.1667e-04\n",
      "Epoch 53/100\n",
      "150/150 [==============================] - 0s 969us/step - loss: 0.0106 - accuracy: 4.1667e-04\n",
      "Epoch 54/100\n",
      "150/150 [==============================] - 0s 940us/step - loss: 0.0106 - accuracy: 4.1667e-04\n",
      "Epoch 55/100\n",
      "150/150 [==============================] - 0s 927us/step - loss: 0.0106 - accuracy: 4.1667e-04\n",
      "Epoch 56/100\n",
      "150/150 [==============================] - 0s 913us/step - loss: 0.0105 - accuracy: 4.1667e-04\n",
      "Epoch 57/100\n",
      "150/150 [==============================] - 0s 913us/step - loss: 0.0106 - accuracy: 4.1667e-04\n",
      "Epoch 58/100\n",
      "150/150 [==============================] - 0s 920us/step - loss: 0.0105 - accuracy: 4.1667e-04\n",
      "Epoch 59/100\n",
      "150/150 [==============================] - 0s 928us/step - loss: 0.0105 - accuracy: 4.1667e-04\n",
      "Epoch 60/100\n",
      "150/150 [==============================] - 0s 927us/step - loss: 0.0104 - accuracy: 4.1667e-04\n",
      "Epoch 61/100\n",
      "150/150 [==============================] - 0s 940us/step - loss: 0.0105 - accuracy: 4.1667e-04\n",
      "Epoch 62/100\n",
      "150/150 [==============================] - 0s 960us/step - loss: 0.0104 - accuracy: 4.1667e-04\n",
      "Epoch 63/100\n",
      "150/150 [==============================] - 0s 947us/step - loss: 0.0103 - accuracy: 4.1667e-04\n",
      "Epoch 64/100\n",
      "150/150 [==============================] - 0s 967us/step - loss: 0.0106 - accuracy: 4.1667e-04\n",
      "Epoch 65/100\n",
      "150/150 [==============================] - 0s 967us/step - loss: 0.0105 - accuracy: 4.1667e-04\n",
      "Epoch 66/100\n",
      "150/150 [==============================] - 0s 953us/step - loss: 0.0106 - accuracy: 4.1667e-04\n",
      "Epoch 67/100\n",
      "150/150 [==============================] - 0s 947us/step - loss: 0.0106 - accuracy: 4.1667e-04\n",
      "Epoch 68/100\n",
      "150/150 [==============================] - 0s 947us/step - loss: 0.0105 - accuracy: 4.1667e-04\n",
      "Epoch 69/100\n",
      "150/150 [==============================] - 0s 940us/step - loss: 0.0105 - accuracy: 4.1667e-04\n",
      "Epoch 70/100\n",
      "150/150 [==============================] - 0s 940us/step - loss: 0.0105 - accuracy: 4.1667e-04\n",
      "Epoch 71/100\n",
      "150/150 [==============================] - 0s 934us/step - loss: 0.0104 - accuracy: 4.1667e-04\n",
      "Epoch 72/100\n",
      "150/150 [==============================] - 0s 927us/step - loss: 0.0105 - accuracy: 4.1667e-04\n",
      "Epoch 73/100\n",
      "150/150 [==============================] - 0s 913us/step - loss: 0.0105 - accuracy: 4.1667e-04\n",
      "Epoch 74/100\n",
      "150/150 [==============================] - 0s 947us/step - loss: 0.0104 - accuracy: 4.1667e-04\n",
      "Epoch 75/100\n",
      "150/150 [==============================] - 0s 1ms/step - loss: 0.0105 - accuracy: 4.1667e-04\n",
      "Epoch 76/100\n",
      "150/150 [==============================] - 0s 993us/step - loss: 0.0106 - accuracy: 4.1667e-04\n"
     ]
    },
    {
     "name": "stdout",
     "output_type": "stream",
     "text": [
      "Epoch 77/100\n",
      "150/150 [==============================] - 0s 960us/step - loss: 0.0105 - accuracy: 4.1667e-04\n",
      "Epoch 78/100\n",
      "150/150 [==============================] - 0s 947us/step - loss: 0.0106 - accuracy: 4.1667e-04\n",
      "Epoch 79/100\n",
      "150/150 [==============================] - 0s 973us/step - loss: 0.0106 - accuracy: 4.1667e-04\n",
      "Epoch 80/100\n",
      "150/150 [==============================] - 0s 927us/step - loss: 0.0105 - accuracy: 4.1667e-04\n",
      "Epoch 81/100\n",
      "150/150 [==============================] - 0s 953us/step - loss: 0.0105 - accuracy: 4.1667e-04\n",
      "Epoch 82/100\n",
      "150/150 [==============================] - 0s 987us/step - loss: 0.0104 - accuracy: 4.1667e-04\n",
      "Epoch 83/100\n",
      "150/150 [==============================] - 0s 940us/step - loss: 0.0107 - accuracy: 4.1667e-04\n",
      "Epoch 84/100\n",
      "150/150 [==============================] - 0s 933us/step - loss: 0.0106 - accuracy: 4.1667e-04\n",
      "Epoch 85/100\n",
      "150/150 [==============================] - 0s 933us/step - loss: 0.0109 - accuracy: 4.1667e-04\n",
      "Epoch 86/100\n",
      "150/150 [==============================] - 0s 987us/step - loss: 0.0106 - accuracy: 4.1667e-04\n",
      "Epoch 87/100\n",
      "150/150 [==============================] - 0s 947us/step - loss: 0.0106 - accuracy: 4.1667e-04\n",
      "Epoch 88/100\n",
      "150/150 [==============================] - 0s 953us/step - loss: 0.0106 - accuracy: 4.1667e-04\n",
      "Epoch 89/100\n",
      "150/150 [==============================] - 0s 1ms/step - loss: 0.0107 - accuracy: 4.1667e-04\n",
      "Epoch 90/100\n",
      "150/150 [==============================] - 0s 1ms/step - loss: 0.0106 - accuracy: 4.1667e-04\n",
      "Epoch 91/100\n",
      "150/150 [==============================] - 0s 887us/step - loss: 0.0106 - accuracy: 4.1667e-04\n",
      "Epoch 92/100\n",
      "150/150 [==============================] - 0s 887us/step - loss: 0.0106 - accuracy: 4.1667e-04\n",
      "Epoch 93/100\n",
      "150/150 [==============================] - 0s 907us/step - loss: 0.0106 - accuracy: 4.1667e-04\n",
      "Epoch 94/100\n",
      "150/150 [==============================] - 0s 893us/step - loss: 0.0106 - accuracy: 4.1667e-04\n",
      "Epoch 95/100\n",
      "150/150 [==============================] - 0s 887us/step - loss: 0.0106 - accuracy: 4.1667e-04\n",
      "Epoch 96/100\n",
      "150/150 [==============================] - 0s 947us/step - loss: 0.0106 - accuracy: 4.1667e-04\n",
      "Epoch 97/100\n",
      "150/150 [==============================] - 0s 987us/step - loss: 0.0106 - accuracy: 4.1667e-04\n",
      "Epoch 98/100\n",
      "150/150 [==============================] - 0s 980us/step - loss: 0.0106 - accuracy: 4.1667e-04\n",
      "Epoch 99/100\n",
      "150/150 [==============================] - 0s 966us/step - loss: 0.0106 - accuracy: 4.1667e-04\n",
      "Epoch 100/100\n",
      "150/150 [==============================] - 0s 1ms/step - loss: 0.0106 - accuracy: 4.1667e-04\n"
     ]
    },
    {
     "data": {
      "text/plain": [
       "<tensorflow.python.keras.callbacks.History at 0x20a7c5e7a00>"
      ]
     },
     "execution_count": 7,
     "metadata": {},
     "output_type": "execute_result"
    }
   ],
   "source": [
    "# fitting the model\n",
    "model.fit(X_train, y_train, epochs = 100, batch_size = 16)"
   ]
  },
  {
   "cell_type": "code",
   "execution_count": 8,
   "id": "d7f51f95",
   "metadata": {},
   "outputs": [
    {
     "name": "stdout",
     "output_type": "stream",
     "text": [
      "45/45 [==============================] - 0s 956us/step - loss: 0.0084 - accuracy: 0.0014\n",
      "\n",
      "Test accuracy: 0.001402524532750249\n"
     ]
    }
   ],
   "source": [
    "# Model evaluation\n",
    "test_loss, test_acc = model.evaluate(X_test, y_test)\n",
    "\n",
    "# Printing\n",
    "print('\\nTest accuracy:', test_acc)"
   ]
  },
  {
   "cell_type": "code",
   "execution_count": 9,
   "id": "97c1796b",
   "metadata": {},
   "outputs": [
    {
     "name": "stdout",
     "output_type": "stream",
     "text": [
      "[[0.03642152]\n",
      " [0.03642152]\n",
      " [0.03642152]\n",
      " ...\n",
      " [0.03642152]\n",
      " [0.03642152]\n",
      " [0.03642152]]\n"
     ]
    }
   ],
   "source": [
    "# prediction\n",
    "predictions = model.predict(X_test)\n",
    "print(predictions)"
   ]
  },
  {
   "cell_type": "code",
   "execution_count": null,
   "id": "3626c020",
   "metadata": {},
   "outputs": [],
   "source": [
    "\n",
    "\n"
   ]
  },
  {
   "cell_type": "code",
   "execution_count": null,
   "id": "aafb15df",
   "metadata": {},
   "outputs": [],
   "source": []
  }
 ],
 "metadata": {
  "kernelspec": {
   "display_name": "Python 3 (ipykernel)",
   "language": "python",
   "name": "python3"
  },
  "language_info": {
   "codemirror_mode": {
    "name": "ipython",
    "version": 3
   },
   "file_extension": ".py",
   "mimetype": "text/x-python",
   "name": "python",
   "nbconvert_exporter": "python",
   "pygments_lexer": "ipython3",
   "version": "3.8.12"
  }
 },
 "nbformat": 4,
 "nbformat_minor": 5
}
