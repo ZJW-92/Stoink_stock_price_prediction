{
 "cells": [
  {
   "cell_type": "code",
   "execution_count": 504,
   "id": "25b933b1",
   "metadata": {},
   "outputs": [],
   "source": [
    "# Imports\n",
    "import pandas as pd\n",
    "from sklearn.model_selection import train_test_split\n",
    "from sklearn.preprocessing import StandardScaler\n",
    "from keras.constraints import maxnorm\n",
    "from sklearn import preprocessing\n",
    "import numpy as np\n",
    "import json as json\n",
    "import seaborn as sns\n",
    "import numpy as np\n",
    "import matplotlib.pyplot as plt\n",
    "import tensorflow as tf\n",
    "from tensorflow.keras.models import Sequential"
   ]
  },
  {
   "cell_type": "code",
   "execution_count": 505,
   "id": "5d74adcb",
   "metadata": {},
   "outputs": [],
   "source": [
    "# Loading the data from CSV into panadas dataframe\n",
    "df = pd.read_csv (r'..\\data\\topFiveFeats211207.csv', sep=',')\n",
    "# printing\n",
    "#print(df)"
   ]
  },
  {
   "cell_type": "code",
   "execution_count": 506,
   "id": "8c216e5e",
   "metadata": {},
   "outputs": [],
   "source": [
    "# Making the toy model with tensorflow\n",
    "model = tf.keras.models.Sequential()\n",
    "\n",
    "# Layers\n",
    "model.add(tf.keras.layers.Dense(units = 5, activation = 'relu', input_dim=5))\n",
    "model.add(tf.keras.layers.Dense(5, activation='relu'))\n",
    "model.add(tf.keras.layers.Dense(units = 1, activation = 'linear'))"
   ]
  },
  {
   "cell_type": "code",
   "execution_count": 507,
   "id": "0a7c8496",
   "metadata": {},
   "outputs": [],
   "source": [
    "# compiling the model\n",
    "opt = tf.keras.optimizers.Adam(lr=0.05)\n",
    "model.compile(loss = 'mean_squared_error', optimizer = opt, metrics=['accuracy'])"
   ]
  },
  {
   "cell_type": "code",
   "execution_count": 508,
   "id": "9efc30e0",
   "metadata": {},
   "outputs": [
    {
     "name": "stdout",
     "output_type": "stream",
     "text": [
      "0\n",
      "0\n",
      "Index(['3m', '1m', 'reportedEPS', 'totalNonCurrentAssets',\n",
      "       'depreciationAndAmortization', 'currentAccountsPayable', 'profitLoss'],\n",
      "      dtype='object')\n"
     ]
    }
   ],
   "source": [
    "# for soem reason there are Infs in the dataset\n",
    "df.replace([np.inf, -np.inf], np.nan, inplace=True)\n",
    "df.replace(np.nan, df.mean(), inplace=True)\n",
    "\n",
    "# Checking for NaNs and infs\n",
    "print(df.isnull().sum().sum())\n",
    "print(np.isinf(df).values.sum())\n",
    "\n",
    "print(df.columns)"
   ]
  },
  {
   "cell_type": "code",
   "execution_count": 509,
   "id": "330b6aa4",
   "metadata": {},
   "outputs": [
    {
     "name": "stdout",
     "output_type": "stream",
     "text": [
      "[ 0.30192109 -0.14856426  0.08404759  0.23773821  0.52485737]\n",
      "0\n",
      "0\n",
      "False\n",
      "False\n",
      "False\n",
      "False\n",
      "(2400, 5) (1164, 5) (2400,) (1164,)\n"
     ]
    },
    {
     "name": "stderr",
     "output_type": "stream",
     "text": [
      "C:\\Users\\Asus\\AppData\\Local\\Temp/ipykernel_3528/1954154402.py:10: RuntimeWarning: invalid value encountered in true_divide\n",
      "  X = features / row_sums[:, np.newaxis]\n"
     ]
    }
   ],
   "source": [
    "\n",
    "\n",
    "# Declaring the label\n",
    "y = df[\"1m\"].to_numpy()\n",
    "\n",
    "# Normalization\n",
    "column_features = [\"reportedEPS\",\"totalNonCurrentAssets\",\"depreciationAndAmortization\",\"currentAccountsPayable\", \"profitLoss\"]\n",
    "features = df[column_features].to_numpy()\n",
    "\n",
    "# Normalizing features\n",
    "row_sums = features.sum(axis=1)\n",
    "X = features / row_sums[:, np.newaxis]\n",
    "\n",
    "#Obtain mean of columns as you need, nanmean is convenient.\n",
    "col_mean = np.nanmean(X, axis=0)\n",
    "print(col_mean)\n",
    "\n",
    "#Find indices that you need to replace\n",
    "inds = np.where(np.isnan(X))\n",
    "\n",
    "#Place column means in the indices. Align the arrays using take\n",
    "X[inds] = np.take(col_mean, inds[1])\n",
    "\n",
    "# SPlitting the dataset\n",
    "X_train, X_test, y_train, y_test = train_test_split(X, y, test_size=0.3265)\n",
    "\n",
    "# Checking for NaNs and infs In the original DF\n",
    "print(df.isnull().sum().sum())\n",
    "print(np.isinf(df).values.sum())\n",
    "\n",
    "# checking for nans in all np arrays\n",
    "array_sum = np.sum(X_train)\n",
    "array_has_nan = np.isnan(array_sum)\n",
    "print(array_has_nan)\n",
    "\n",
    "array_sum = np.sum(X_test)\n",
    "array_has_nan = np.isnan(array_sum)\n",
    "print(array_has_nan)\n",
    "\n",
    "array_sum = np.sum(y_train)\n",
    "array_has_nan = np.isnan(array_sum)\n",
    "print(array_has_nan)\n",
    "\n",
    "array_sum = np.sum(y_test)\n",
    "array_has_nan = np.isnan(array_sum)\n",
    "print(array_has_nan)\n",
    "\n",
    "# print\n",
    "print(X_train.shape, X_test.shape, y_train.shape, y_test.shape)"
   ]
  },
  {
   "cell_type": "code",
   "execution_count": null,
   "id": "60f7dc31",
   "metadata": {},
   "outputs": [],
   "source": [
    "\n"
   ]
  },
  {
   "cell_type": "code",
   "execution_count": 510,
   "id": "eed8a18f",
   "metadata": {},
   "outputs": [
    {
     "name": "stdout",
     "output_type": "stream",
     "text": [
      "Epoch 1/25\n",
      "38/38 [==============================] - 0s 895us/step - loss: 4.3665 - accuracy: 4.1667e-04\n",
      "Epoch 2/25\n",
      "38/38 [==============================] - 0s 921us/step - loss: 30.1027 - accuracy: 8.3333e-04\n",
      "Epoch 3/25\n",
      "38/38 [==============================] - 0s 895us/step - loss: 1.2663 - accuracy: 8.3333e-04\n",
      "Epoch 4/25\n",
      "38/38 [==============================] - 0s 842us/step - loss: 0.1055 - accuracy: 8.3333e-04\n",
      "Epoch 5/25\n",
      "38/38 [==============================] - 0s 868us/step - loss: 0.0513 - accuracy: 8.3333e-04\n",
      "Epoch 6/25\n",
      "38/38 [==============================] - 0s 921us/step - loss: 0.0292 - accuracy: 8.3333e-04\n",
      "Epoch 7/25\n",
      "38/38 [==============================] - 0s 868us/step - loss: 0.0204 - accuracy: 8.3333e-04\n",
      "Epoch 8/25\n",
      "38/38 [==============================] - 0s 868us/step - loss: 0.0165 - accuracy: 8.3333e-04\n",
      "Epoch 9/25\n",
      "38/38 [==============================] - 0s 895us/step - loss: 0.0151 - accuracy: 8.3333e-04\n",
      "Epoch 10/25\n",
      "38/38 [==============================] - 0s 895us/step - loss: 0.0145 - accuracy: 8.3333e-04\n",
      "Epoch 11/25\n",
      "38/38 [==============================] - 0s 921us/step - loss: 0.0141 - accuracy: 8.3333e-04\n",
      "Epoch 12/25\n",
      "38/38 [==============================] - 0s 895us/step - loss: 0.0140 - accuracy: 8.3333e-04\n",
      "Epoch 13/25\n",
      "38/38 [==============================] - 0s 895us/step - loss: 0.0138 - accuracy: 8.3333e-04\n",
      "Epoch 14/25\n",
      "38/38 [==============================] - 0s 921us/step - loss: 0.0136 - accuracy: 8.3333e-04\n",
      "Epoch 15/25\n",
      "38/38 [==============================] - 0s 868us/step - loss: 0.0135 - accuracy: 8.3333e-04\n",
      "Epoch 16/25\n",
      "38/38 [==============================] - 0s 895us/step - loss: 0.0133 - accuracy: 8.3333e-04\n",
      "Epoch 17/25\n",
      "38/38 [==============================] - 0s 921us/step - loss: 0.0131 - accuracy: 8.3333e-04\n",
      "Epoch 18/25\n",
      "38/38 [==============================] - 0s 895us/step - loss: 0.0129 - accuracy: 8.3333e-04\n",
      "Epoch 19/25\n",
      "38/38 [==============================] - 0s 947us/step - loss: 0.0128 - accuracy: 8.3333e-04\n",
      "Epoch 20/25\n",
      "38/38 [==============================] - 0s 868us/step - loss: 0.0126 - accuracy: 8.3333e-04\n",
      "Epoch 21/25\n",
      "38/38 [==============================] - 0s 868us/step - loss: 0.0125 - accuracy: 8.3333e-04\n",
      "Epoch 22/25\n",
      "38/38 [==============================] - 0s 974us/step - loss: 0.0124 - accuracy: 8.3333e-04\n",
      "Epoch 23/25\n",
      "38/38 [==============================] - 0s 842us/step - loss: 0.0123 - accuracy: 8.3333e-04\n",
      "Epoch 24/25\n",
      "38/38 [==============================] - 0s 921us/step - loss: 0.0122 - accuracy: 8.3333e-04\n",
      "Epoch 25/25\n",
      "38/38 [==============================] - 0s 921us/step - loss: 0.0120 - accuracy: 8.3333e-04\n"
     ]
    },
    {
     "data": {
      "text/plain": [
       "<tensorflow.python.keras.callbacks.History at 0x2535468a8e0>"
      ]
     },
     "execution_count": 510,
     "metadata": {},
     "output_type": "execute_result"
    }
   ],
   "source": [
    "# fitting the model\n",
    "model.fit(X_train, y_train, epochs = 25, batch_size = 64)"
   ]
  },
  {
   "cell_type": "code",
   "execution_count": 511,
   "id": "d7f51f95",
   "metadata": {},
   "outputs": [
    {
     "name": "stdout",
     "output_type": "stream",
     "text": [
      "75/75 [==============================] - 0s 720us/step - loss: 0.0119 - accuracy: 8.3333e-04\n",
      "\n",
      "Test accuracy: 0.0008333333535119891\n"
     ]
    }
   ],
   "source": [
    " # Model evaluation\n",
    "test_loss, test_acc = model.evaluate(X_train, y_train)\n",
    "\n",
    "# Printing\n",
    "print('\\nTest accuracy:', test_acc)"
   ]
  },
  {
   "cell_type": "code",
   "execution_count": 512,
   "id": "97c1796b",
   "metadata": {},
   "outputs": [
    {
     "name": "stdout",
     "output_type": "stream",
     "text": [
      "[[0.03594815]\n",
      " [0.03594815]\n",
      " [0.03594815]\n",
      " ...\n",
      " [0.03594815]\n",
      " [0.03594815]\n",
      " [0.03594815]]\n"
     ]
    }
   ],
   "source": [
    "# prediction\n",
    "predictions = model.predict(X_train)\n",
    "print(predictions)"
   ]
  },
  {
   "cell_type": "code",
   "execution_count": null,
   "id": "3626c020",
   "metadata": {},
   "outputs": [],
   "source": [
    "\n",
    "\n"
   ]
  },
  {
   "cell_type": "code",
   "execution_count": null,
   "id": "aafb15df",
   "metadata": {},
   "outputs": [],
   "source": []
  }
 ],
 "metadata": {
  "kernelspec": {
   "display_name": "Python 3 (ipykernel)",
   "language": "python",
   "name": "python3"
  },
  "language_info": {
   "codemirror_mode": {
    "name": "ipython",
    "version": 3
   },
   "file_extension": ".py",
   "mimetype": "text/x-python",
   "name": "python",
   "nbconvert_exporter": "python",
   "pygments_lexer": "ipython3",
   "version": "3.8.12"
  }
 },
 "nbformat": 4,
 "nbformat_minor": 5
}
